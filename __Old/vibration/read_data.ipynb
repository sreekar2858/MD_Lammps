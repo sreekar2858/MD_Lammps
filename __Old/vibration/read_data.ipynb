{
 "cells": [
  {
   "cell_type": "code",
   "execution_count": 1,
   "metadata": {},
   "outputs": [],
   "source": [
    "import numpy as np\n",
    "import math"
   ]
  },
  {
   "cell_type": "code",
   "execution_count": 2,
   "metadata": {},
   "outputs": [],
   "source": [
    "# Number of atoms to create\n",
    "natoms = 1000\n",
    "\n",
    "# Size of the system cell in Angstroms\n",
    "#\tassuming an cubic cell, starting at the origin\n",
    "system_size = 20.0"
   ]
  },
  {
   "cell_type": "code",
   "execution_count": 3,
   "metadata": {},
   "outputs": [],
   "source": [
    "# Generate atom positions\n",
    "#\tRandomness for amorphous glass\n",
    "positions = []\n",
    "for i in range(natoms):\n",
    "\tpositions.append(np.random.rand(3)*system_size)\n",
    "\t\n",
    "# Write LAMMPS data file\n",
    "with open('random.data','w') as fdata:\n",
    "\t# First line is a comment line \n",
    "\tfdata.write('Random atoms generator\\n\\n')\n",
    "\t\n",
    "\t#--- Header ---#\n",
    "\t# Specify number of atoms and atom types \n",
    "\tfdata.write('{} atoms\\n'.format(natoms))\n",
    "\tfdata.write('{} atom types\\n'.format(1))\n",
    "\t# Specify box dimensions\n",
    "\tfdata.write('{} {} xlo xhi\\n'.format(0.0, system_size))\n",
    "\tfdata.write('{} {} ylo yhi\\n'.format(0.0, system_size))\n",
    "\tfdata.write('{} {} zlo zhi\\n'.format(0.0, system_size))\n",
    "\tfdata.write('\\n')\n",
    "\n",
    "\t# Atoms section\n",
    "\tfdata.write('Atoms\\n\\n')\n",
    "\n",
    "\t# Write each position \n",
    "\tfor i,pos in enumerate(positions):\n",
    "\t\tfdata.write('{} 1 {} {} {}\\n'.format(i+1,*pos))\n",
    "\t\t\n",
    "\t# If you have bonds and angles, further sections below"
   ]
  }
 ],
 "metadata": {
  "interpreter": {
   "hash": "9fab44736fb6ea50a7cdb2457afab02e69cd265b0a3d2f575374d2459af5ac36"
  },
  "kernelspec": {
   "display_name": "Python 3.10.1 64-bit",
   "name": "python3"
  },
  "language_info": {
   "codemirror_mode": {
    "name": "ipython",
    "version": 3
   },
   "file_extension": ".py",
   "mimetype": "text/x-python",
   "name": "python",
   "nbconvert_exporter": "python",
   "pygments_lexer": "ipython3",
   "version": "3.10.1"
  },
  "orig_nbformat": 4
 },
 "nbformat": 4,
 "nbformat_minor": 2
}
